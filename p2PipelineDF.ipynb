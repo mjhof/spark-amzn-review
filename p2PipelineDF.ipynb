{
 "cells": [
  {
   "cell_type": "markdown",
   "metadata": {},
   "source": [
    "# DIC2020 - A2.2 SparkML Pipeline to vectorize reviews and find top 4000 terms over all categories"
   ]
  },
  {
   "cell_type": "markdown",
   "metadata": {},
   "source": [
    "## Imports"
   ]
  },
  {
   "cell_type": "code",
   "execution_count": 1,
   "metadata": {},
   "outputs": [
    {
     "data": {
      "text/plain": [
       "Intitializing Scala interpreter ..."
      ]
     },
     "metadata": {},
     "output_type": "display_data"
    },
    {
     "data": {
      "text/plain": [
       "Spark Web UI available at http://c100.local:8088/proxy/application_1587827373944_4796\n",
       "SparkContext available as 'sc' (version = 2.4.0-cdh6.3.2, master = yarn, app id = application_1587827373944_4796)\n",
       "SparkSession available as 'spark'\n"
      ]
     },
     "metadata": {},
     "output_type": "display_data"
    },
    {
     "data": {
      "text/plain": [
       "import org.apache.spark.ml.feature.RegexTokenizer\n",
       "import org.apache.spark.ml.feature.StopWordsRemover\n",
       "import org.apache.spark.ml.{Pipeline, PipelineModel}\n",
       "import org.apache.spark.ml.feature.{CountVectorizer, CountVectorizerModel, IDF, ChiSqSelector, StringIndexer, ChiSqSelectorModel}\n",
       "import java.io.PrintWriter\n"
      ]
     },
     "execution_count": 1,
     "metadata": {},
     "output_type": "execute_result"
    }
   ],
   "source": [
    "import org.apache.spark.ml.feature.RegexTokenizer\n",
    "import org.apache.spark.ml.feature.StopWordsRemover\n",
    "import org.apache.spark.ml.{Pipeline, PipelineModel}\n",
    "import org.apache.spark.ml.feature.{CountVectorizer, CountVectorizerModel, IDF, ChiSqSelector, StringIndexer, ChiSqSelectorModel}\n",
    "import java.io.PrintWriter\n"
   ]
  },
  {
   "cell_type": "markdown",
   "metadata": {},
   "source": [
    "## Constants"
   ]
  },
  {
   "cell_type": "code",
   "execution_count": 2,
   "metadata": {},
   "outputs": [
    {
     "data": {
      "text/plain": [
       "INPUT: String = hdfs:///user/pknees/amazon-reviews/full/reviews_devset.json\n",
       "DELIMS: String = [.!?,;:()\\[\\]{}\\-_\"\\`~#&*%$\\/\\s\\d]\n",
       "STOPWORDS: String = hdfs:///user/e11944050/stopwords.txt\n",
       "TOP_N_FEATURES: Int = 4000\n"
      ]
     },
     "execution_count": 2,
     "metadata": {},
     "output_type": "execute_result"
    }
   ],
   "source": [
    "val INPUT = \"hdfs:///user/pknees/amazon-reviews/full/reviews_devset.json\"\n",
    "val DELIMS = \"[.!?,;:()\\\\[\\\\]{}\\\\-_\\\"\\\\`~#&*%$\\\\/\\\\s\\\\d]\"\n",
    "val STOPWORDS = \"hdfs:///user/e11944050/stopwords.txt\"\n",
    "val TOP_N_FEATURES = 4000"
   ]
  },
  {
   "cell_type": "markdown",
   "metadata": {},
   "source": [
    "## Load JSON data from file and print schema"
   ]
  },
  {
   "cell_type": "code",
   "execution_count": 3,
   "metadata": {},
   "outputs": [
    {
     "name": "stdout",
     "output_type": "stream",
     "text": [
      "root\n",
      " |-- asin: string (nullable = true)\n",
      " |-- category: string (nullable = true)\n",
      " |-- helpful: array (nullable = true)\n",
      " |    |-- element: long (containsNull = true)\n",
      " |-- overall: double (nullable = true)\n",
      " |-- reviewText: string (nullable = true)\n",
      " |-- reviewTime: string (nullable = true)\n",
      " |-- reviewerID: string (nullable = true)\n",
      " |-- reviewerName: string (nullable = true)\n",
      " |-- summary: string (nullable = true)\n",
      " |-- unixReviewTime: long (nullable = true)\n",
      "\n"
     ]
    },
    {
     "data": {
      "text/plain": [
       "amazonReviewDfFull: org.apache.spark.sql.DataFrame = [asin: string, category: string ... 8 more fields]\n"
      ]
     },
     "execution_count": 3,
     "metadata": {},
     "output_type": "execute_result"
    }
   ],
   "source": [
    "val amazonReviewDfFull = spark.read.json(INPUT)\n",
    "amazonReviewDfFull.printSchema()"
   ]
  },
  {
   "cell_type": "markdown",
   "metadata": {},
   "source": [
    "## Only select reviewText and category columns"
   ]
  },
  {
   "cell_type": "code",
   "execution_count": 4,
   "metadata": {},
   "outputs": [
    {
     "data": {
      "text/plain": [
       "columnSelection: Seq[String] = List(reviewText, category)\n",
       "reviewCategoryDf: org.apache.spark.sql.DataFrame = [reviewText: string, category: string]\n"
      ]
     },
     "execution_count": 4,
     "metadata": {},
     "output_type": "execute_result"
    }
   ],
   "source": [
    "val columnSelection = Seq(\"reviewText\", \"category\")\n",
    "val reviewCategoryDf = amazonReviewDfFull.select(columnSelection.map(c => col(c)): _*)"
   ]
  },
  {
   "cell_type": "markdown",
   "metadata": {},
   "source": [
    "## Load stopwords"
   ]
  },
  {
   "cell_type": "code",
   "execution_count": 5,
   "metadata": {},
   "outputs": [
    {
     "data": {
      "text/plain": [
       "stopWords: Array[String] = Array(a's, able, about, above, according, accordingly, across, actually, after, afterwards, again, against, ain't, all, allow, allows, almost, alone, along, already, also, although, always, am, among, amongst, an, and, another, any, anybody, anyhow, anyone, anything, anyway, anyways, anywhere, apart, appear, appreciate, appropriate, are, aren't, around, as, aside, ask, asking, associated, at, available, away, awfully, be, became, because, become, becomes, becoming, been, before, beforehand, behind, being, believe, below, beside, besides, best, better, between, beyond, both, brief, but, by, c'mon, c's, came, can, can't, cannot, cant, cause, causes, certain, certainly, changes, clearly, co, com, come, comes, concerning, consequently, consider, considering, conta..."
      ]
     },
     "execution_count": 5,
     "metadata": {},
     "output_type": "execute_result"
    }
   ],
   "source": [
    "val stopWords = spark.read.textFile(STOPWORDS).as[String].collect()"
   ]
  },
  {
   "cell_type": "markdown",
   "metadata": {},
   "source": [
    "## Define pipeline"
   ]
  },
  {
   "cell_type": "code",
   "execution_count": 6,
   "metadata": {},
   "outputs": [
    {
     "data": {
      "text/plain": [
       "regexTokenizer: org.apache.spark.ml.feature.RegexTokenizer = regexTok_a31611662901\n",
       "remover: org.apache.spark.ml.feature.StopWordsRemover = stopWords_8fd8b138f748\n",
       "countVectorizer: org.apache.spark.ml.feature.CountVectorizer = cntVec_633dfe088131\n",
       "idf: org.apache.spark.ml.feature.IDF = idf_5da6e57c0879\n",
       "indexer: org.apache.spark.ml.feature.StringIndexer = strIdx_c0e63a48b944\n",
       "selector: org.apache.spark.ml.feature.ChiSqSelector = chiSqSelector_ac1e766b31c7\n"
      ]
     },
     "execution_count": 6,
     "metadata": {},
     "output_type": "execute_result"
    }
   ],
   "source": [
    "val regexTokenizer = new RegexTokenizer()\n",
    "                .setInputCol(\"reviewText\")\n",
    "                .setOutputCol(\"terms\")\n",
    "                .setPattern(DELIMS)\n",
    "                .setToLowercase(true)\n",
    "\n",
    "val remover = new StopWordsRemover()\n",
    "              .setInputCol(\"terms\")\n",
    "              .setOutputCol(\"termsFiltered\")\n",
    "              .setStopWords(stopWords)\n",
    "\n",
    "val countVectorizer = new CountVectorizer() \n",
    "                    .setInputCol(\"termsFiltered\")\n",
    "                    .setOutputCol(\"rawFeatures\") \n",
    "                    .setMinDF(100) //otherwise ChiSqSelection takes too much time\n",
    "\n",
    "val idf = new IDF()\n",
    "        .setInputCol(\"rawFeatures\")\n",
    "        .setOutputCol(\"features\")\n",
    "\n",
    "val indexer = new StringIndexer()\n",
    "            .setInputCol(\"category\")\n",
    "            .setOutputCol(\"categoryIndex\")\n",
    "\n",
    "val selector = new ChiSqSelector()\n",
    "               .setNumTopFeatures(TOP_N_FEATURES)\n",
    "               .setFeaturesCol(\"features\")\n",
    "               .setLabelCol(\"categoryIndex\")\n",
    "               .setOutputCol(\"selectedFeatures\")"
   ]
  },
  {
   "cell_type": "markdown",
   "metadata": {},
   "source": [
    "## Fit pipeline on review data"
   ]
  },
  {
   "cell_type": "code",
   "execution_count": 7,
   "metadata": {},
   "outputs": [
    {
     "data": {
      "text/plain": [
       "pipeline: org.apache.spark.ml.Pipeline = pipeline_07b499317477\n",
       "model: org.apache.spark.ml.PipelineModel = pipeline_07b499317477\n"
      ]
     },
     "execution_count": 7,
     "metadata": {},
     "output_type": "execute_result"
    }
   ],
   "source": [
    "val pipeline = new Pipeline().setStages(Array(\n",
    "                                regexTokenizer, \n",
    "                                remover, \n",
    "                                countVectorizer, \n",
    "                                idf, \n",
    "                                indexer, \n",
    "                                selector))\n",
    "\n",
    "val model = pipeline.fit(reviewCategoryDf)"
   ]
  },
  {
   "cell_type": "markdown",
   "metadata": {},
   "source": [
    "## Get top 4000 terms selected by pipeline and make space separated string"
   ]
  },
  {
   "cell_type": "code",
   "execution_count": 8,
   "metadata": {},
   "outputs": [
    {
     "data": {
      "text/plain": [
       "selectedFeatures: Array[Int] = Array(0, 1, 2, 3, 4, 5, 6, 7, 8, 9, 10, 11, 12, 13, 14, 15, 16, 17, 18, 19, 20, 21, 22, 23, 24, 25, 26, 27, 28, 29, 30, 31, 33, 35, 36, 38, 39, 40, 41, 42, 43, 44, 45, 46, 47, 48, 49, 50, 51, 53, 54, 55, 56, 57, 59, 60, 61, 62, 63, 64, 65, 66, 67, 68, 69, 70, 71, 72, 73, 74, 75, 76, 77, 79, 80, 81, 82, 84, 85, 86, 87, 88, 89, 90, 92, 93, 94, 96, 97, 98, 99, 100, 101, 102, 103, 104, 105, 106, 107, 108, 109, 110, 111, 112, 113, 115, 116, 117, 118, 119, 120, 121, 122, 123, 124, 125, 126, 127, 128, 129, 130, 131, 132, 133, 134, 135, 136, 137, 138, 139, 140, 141, 142, 143, 144, 145, 146, 147, 149, 150, 151, 152, 153, 154, 155, 156, 157, 158, 159, 160, 161, 162, 163, 165, 166, 167, 168, 169, 170, 171, 173, 174, 175, 179, 180, 181, 182, 183, 184, 185, 186, 187, 1..."
      ]
     },
     "execution_count": 8,
     "metadata": {},
     "output_type": "execute_result"
    }
   ],
   "source": [
    "// get indices of selected features\n",
    "val selectedFeatures = model.stages(5).asInstanceOf[ChiSqSelectorModel].selectedFeatures\n",
    "\n",
    "// get terms in vocabulary\n",
    "val vocabulary = model.stages(2).asInstanceOf[CountVectorizerModel].vocabulary\n",
    "\n",
    "val selectedFeaturesString = selectedFeatures // get the space-separated string of terms\n",
    "    .map(x => vocabulary(x)) // map index to vocabulary\n",
    "    .sorted // sort alphabetically\n",
    "    .mkString(\" \") // make space-separated String\n",
    "\n",
    "selectedFeaturesString"
   ]
  },
  {
   "cell_type": "markdown",
   "metadata": {},
   "source": [
    "## Save top 4000 terms to file"
   ]
  },
  {
   "cell_type": "code",
   "execution_count": 10,
   "metadata": {},
   "outputs": [
    {
     "data": {
      "text/plain": [
       "res2: java.io.PrintWriter = $anon$1@79bc16e6\n"
      ]
     },
     "execution_count": 10,
     "metadata": {},
     "output_type": "execute_result"
    }
   ],
   "source": [
    "new PrintWriter(\"output_ds.txt\") { \n",
    "    write(selectedFeaturesString); \n",
    "    close \n",
    "}"
   ]
  }
 ],
 "metadata": {
  "kernelspec": {
   "display_name": "Scala (spylon-kernel)",
   "language": "scala",
   "name": "spylon-kernel"
  },
  "language_info": {
   "codemirror_mode": "text/x-scala",
   "file_extension": ".scala",
   "help_links": [
    {
     "text": "MetaKernel Magics",
     "url": "https://github.com/calysto/metakernel/blob/master/metakernel/magics/README.md"
    }
   ],
   "mimetype": "text/x-scala",
   "name": "scala",
   "pygments_lexer": "scala",
   "version": "0.4.1"
  }
 },
 "nbformat": 4,
 "nbformat_minor": 2
}
